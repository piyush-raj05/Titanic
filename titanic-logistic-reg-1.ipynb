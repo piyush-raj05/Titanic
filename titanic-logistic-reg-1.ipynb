{
 "cells": [
  {
   "cell_type": "markdown",
   "execution_count": null,
   "metadata": {
    "papermill": {
     "duration": 0.015222,
     "end_time": "2020-08-27T13:58:14.472896",
     "exception": false,
     "start_time": "2020-08-27T13:58:14.457674",
     "status": "completed"
    },
    "tags": []
   },
   "source": [
    "## Titanic survivor prediction using logistic regression"
   ]
  },
  {
   "cell_type": "code",
   "execution_count": 1,
   "metadata": {
    "_cell_guid": "b1076dfc-b9ad-4769-8c92-a6c4dae69d19",
    "_uuid": "8f2839f25d086af736a60e9eeb907d3b93b6e0e5",
    "execution": {
     "iopub.execute_input": "2020-08-27T13:58:14.508602Z",
     "iopub.status.busy": "2020-08-27T13:58:14.507746Z",
     "iopub.status.idle": "2020-08-27T13:58:14.517880Z",
     "shell.execute_reply": "2020-08-27T13:58:14.516752Z"
    },
    "papermill": {
     "duration": 0.031888,
     "end_time": "2020-08-27T13:58:14.518065",
     "exception": false,
     "start_time": "2020-08-27T13:58:14.486177",
     "status": "completed"
    },
    "tags": []
   },
   "outputs": [
    {
     "name": "stdout",
     "output_type": "stream",
     "text": [
      "/kaggle/input/titanic/test.csv\n",
      "/kaggle/input/titanic/train.csv\n",
      "/kaggle/input/titanic/gender_submission.csv\n"
     ]
    }
   ],
   "source": [
    "# This Python 3 environment comes with many helpful analytics libraries installed\n",
    "# It is defined by the kaggle/python Docker image: https://github.com/kaggle/docker-python\n",
    "# For example, here's several helpful packages to load\n",
    "\n",
    "import numpy as np # linear algebra\n",
    "import pandas as pd # data processing, CSV file I/O (e.g. pd.read_csv)\n",
    "\n",
    "# Input data files are available in the read-only \"../input/\" directory\n",
    "# For example, running this (by clicking run or pressing Shift+Enter) will list all files under the input directory\n",
    "\n",
    "import os\n",
    "for dirname, _, filenames in os.walk('/kaggle/input'):\n",
    "    for filename in filenames:\n",
    "        print(os.path.join(dirname, filename))\n",
    "\n",
    "# You can write up to 5GB to the current directory (/kaggle/working/) that gets preserved as output when you create a version using \"Save & Run All\" \n",
    "# You can also write temporary files to /kaggle/temp/, but they won't be saved outside of the current session"
   ]
  },
  {
   "cell_type": "code",
   "execution_count": 2,
   "metadata": {
    "_cell_guid": "79c7e3d0-c299-4dcb-8224-4455121ee9b0",
    "_uuid": "d629ff2d2480ee46fbb7e2d37f6b5fab8052498a",
    "execution": {
     "iopub.execute_input": "2020-08-27T13:58:14.554791Z",
     "iopub.status.busy": "2020-08-27T13:58:14.554007Z",
     "iopub.status.idle": "2020-08-27T13:58:15.702172Z",
     "shell.execute_reply": "2020-08-27T13:58:15.701352Z"
    },
    "papermill": {
     "duration": 1.167969,
     "end_time": "2020-08-27T13:58:15.702304",
     "exception": false,
     "start_time": "2020-08-27T13:58:14.534335",
     "status": "completed"
    },
    "tags": []
   },
   "outputs": [],
   "source": [
    "import numpy as np\n",
    "import pandas as pd\n",
    "import matplotlib.pyplot as plt\n",
    "import seaborn as sns"
   ]
  },
  {
   "cell_type": "code",
   "execution_count": 3,
   "metadata": {
    "execution": {
     "iopub.execute_input": "2020-08-27T13:58:15.735486Z",
     "iopub.status.busy": "2020-08-27T13:58:15.734678Z",
     "iopub.status.idle": "2020-08-27T13:58:15.752755Z",
     "shell.execute_reply": "2020-08-27T13:58:15.752124Z"
    },
    "papermill": {
     "duration": 0.038136,
     "end_time": "2020-08-27T13:58:15.752901",
     "exception": false,
     "start_time": "2020-08-27T13:58:15.714765",
     "status": "completed"
    },
    "tags": []
   },
   "outputs": [],
   "source": [
    "data_set = pd.read_csv('/kaggle/input/titanic/train.csv')"
   ]
  },
  {
   "cell_type": "code",
   "execution_count": 4,
   "metadata": {
    "execution": {
     "iopub.execute_input": "2020-08-27T13:58:15.797407Z",
     "iopub.status.busy": "2020-08-27T13:58:15.796553Z",
     "iopub.status.idle": "2020-08-27T13:58:15.809473Z",
     "shell.execute_reply": "2020-08-27T13:58:15.808791Z"
    },
    "papermill": {
     "duration": 0.043952,
     "end_time": "2020-08-27T13:58:15.809604",
     "exception": false,
     "start_time": "2020-08-27T13:58:15.765652",
     "status": "completed"
    },
    "tags": []
   },
   "outputs": [
    {
     "data": {
      "text/html": [
       "<div>\n",
       "<style scoped>\n",
       "    .dataframe tbody tr th:only-of-type {\n",
       "        vertical-align: middle;\n",
       "    }\n",
       "\n",
       "    .dataframe tbody tr th {\n",
       "        vertical-align: top;\n",
       "    }\n",
       "\n",
       "    .dataframe thead th {\n",
       "        text-align: right;\n",
       "    }\n",
       "</style>\n",
       "<table border=\"1\" class=\"dataframe\">\n",
       "  <thead>\n",
       "    <tr style=\"text-align: right;\">\n",
       "      <th></th>\n",
       "      <th>PassengerId</th>\n",
       "      <th>Survived</th>\n",
       "      <th>Pclass</th>\n",
       "      <th>Name</th>\n",
       "      <th>Sex</th>\n",
       "      <th>Age</th>\n",
       "      <th>SibSp</th>\n",
       "      <th>Parch</th>\n",
       "      <th>Ticket</th>\n",
       "      <th>Fare</th>\n",
       "      <th>Cabin</th>\n",
       "      <th>Embarked</th>\n",
       "    </tr>\n",
       "  </thead>\n",
       "  <tbody>\n",
       "    <tr>\n",
       "      <th>0</th>\n",
       "      <td>1</td>\n",
       "      <td>0</td>\n",
       "      <td>3</td>\n",
       "      <td>Braund, Mr. Owen Harris</td>\n",
       "      <td>male</td>\n",
       "      <td>22.0</td>\n",
       "      <td>1</td>\n",
       "      <td>0</td>\n",
       "      <td>A/5 21171</td>\n",
       "      <td>7.2500</td>\n",
       "      <td>NaN</td>\n",
       "      <td>S</td>\n",
       "    </tr>\n",
       "    <tr>\n",
       "      <th>1</th>\n",
       "      <td>2</td>\n",
       "      <td>1</td>\n",
       "      <td>1</td>\n",
       "      <td>Cumings, Mrs. John Bradley (Florence Briggs Th...</td>\n",
       "      <td>female</td>\n",
       "      <td>38.0</td>\n",
       "      <td>1</td>\n",
       "      <td>0</td>\n",
       "      <td>PC 17599</td>\n",
       "      <td>71.2833</td>\n",
       "      <td>C85</td>\n",
       "      <td>C</td>\n",
       "    </tr>\n",
       "    <tr>\n",
       "      <th>2</th>\n",
       "      <td>3</td>\n",
       "      <td>1</td>\n",
       "      <td>3</td>\n",
       "      <td>Heikkinen, Miss. Laina</td>\n",
       "      <td>female</td>\n",
       "      <td>26.0</td>\n",
       "      <td>0</td>\n",
       "      <td>0</td>\n",
       "      <td>STON/O2. 3101282</td>\n",
       "      <td>7.9250</td>\n",
       "      <td>NaN</td>\n",
       "      <td>S</td>\n",
       "    </tr>\n",
       "    <tr>\n",
       "      <th>3</th>\n",
       "      <td>4</td>\n",
       "      <td>1</td>\n",
       "      <td>1</td>\n",
       "      <td>Futrelle, Mrs. Jacques Heath (Lily May Peel)</td>\n",
       "      <td>female</td>\n",
       "      <td>35.0</td>\n",
       "      <td>1</td>\n",
       "      <td>0</td>\n",
       "      <td>113803</td>\n",
       "      <td>53.1000</td>\n",
       "      <td>C123</td>\n",
       "      <td>S</td>\n",
       "    </tr>\n",
       "    <tr>\n",
       "      <th>4</th>\n",
       "      <td>5</td>\n",
       "      <td>0</td>\n",
       "      <td>3</td>\n",
       "      <td>Allen, Mr. William Henry</td>\n",
       "      <td>male</td>\n",
       "      <td>35.0</td>\n",
       "      <td>0</td>\n",
       "      <td>0</td>\n",
       "      <td>373450</td>\n",
       "      <td>8.0500</td>\n",
       "      <td>NaN</td>\n",
       "      <td>S</td>\n",
       "    </tr>\n",
       "  </tbody>\n",
       "</table>\n",
       "</div>"
      ],
      "text/plain": [
       "   PassengerId  Survived  Pclass  \\\n",
       "0            1         0       3   \n",
       "1            2         1       1   \n",
       "2            3         1       3   \n",
       "3            4         1       1   \n",
       "4            5         0       3   \n",
       "\n",
       "                                                Name     Sex   Age  SibSp  \\\n",
       "0                            Braund, Mr. Owen Harris    male  22.0      1   \n",
       "1  Cumings, Mrs. John Bradley (Florence Briggs Th...  female  38.0      1   \n",
       "2                             Heikkinen, Miss. Laina  female  26.0      0   \n",
       "3       Futrelle, Mrs. Jacques Heath (Lily May Peel)  female  35.0      1   \n",
       "4                           Allen, Mr. William Henry    male  35.0      0   \n",
       "\n",
       "   Parch            Ticket     Fare Cabin Embarked  \n",
       "0      0         A/5 21171   7.2500   NaN        S  \n",
       "1      0          PC 17599  71.2833   C85        C  \n",
       "2      0  STON/O2. 3101282   7.9250   NaN        S  \n",
       "3      0            113803  53.1000  C123        S  \n",
       "4      0            373450   8.0500   NaN        S  "
      ]
     },
     "execution_count": 4,
     "metadata": {},
     "output_type": "execute_result"
    }
   ],
   "source": [
    "data_set.head()"
   ]
  },
  {
   "cell_type": "code",
   "execution_count": 5,
   "metadata": {
    "execution": {
     "iopub.execute_input": "2020-08-27T13:58:15.856275Z",
     "iopub.status.busy": "2020-08-27T13:58:15.842174Z",
     "iopub.status.idle": "2020-08-27T13:58:15.860553Z",
     "shell.execute_reply": "2020-08-27T13:58:15.859764Z"
    },
    "papermill": {
     "duration": 0.03816,
     "end_time": "2020-08-27T13:58:15.860696",
     "exception": false,
     "start_time": "2020-08-27T13:58:15.822536",
     "status": "completed"
    },
    "tags": []
   },
   "outputs": [
    {
     "name": "stdout",
     "output_type": "stream",
     "text": [
      "<class 'pandas.core.frame.DataFrame'>\n",
      "RangeIndex: 891 entries, 0 to 890\n",
      "Data columns (total 12 columns):\n",
      " #   Column       Non-Null Count  Dtype  \n",
      "---  ------       --------------  -----  \n",
      " 0   PassengerId  891 non-null    int64  \n",
      " 1   Survived     891 non-null    int64  \n",
      " 2   Pclass       891 non-null    int64  \n",
      " 3   Name         891 non-null    object \n",
      " 4   Sex          891 non-null    object \n",
      " 5   Age          714 non-null    float64\n",
      " 6   SibSp        891 non-null    int64  \n",
      " 7   Parch        891 non-null    int64  \n",
      " 8   Ticket       891 non-null    object \n",
      " 9   Fare         891 non-null    float64\n",
      " 10  Cabin        204 non-null    object \n",
      " 11  Embarked     889 non-null    object \n",
      "dtypes: float64(2), int64(5), object(5)\n",
      "memory usage: 83.7+ KB\n"
     ]
    }
   ],
   "source": [
    "data_set.info()"
   ]
  },
  {
   "cell_type": "markdown",
   "execution_count": null,
   "metadata": {
    "papermill": {
     "duration": 0.012712,
     "end_time": "2020-08-27T13:58:15.886744",
     "exception": false,
     "start_time": "2020-08-27T13:58:15.874032",
     "status": "completed"
    },
    "tags": []
   },
   "source": [
    "## Exploratory data analysis"
   ]
  },
  {
   "cell_type": "code",
   "execution_count": 6,
   "metadata": {
    "execution": {
     "iopub.execute_input": "2020-08-27T13:58:15.936154Z",
     "iopub.status.busy": "2020-08-27T13:58:15.934934Z",
     "iopub.status.idle": "2020-08-27T13:58:16.259536Z",
     "shell.execute_reply": "2020-08-27T13:58:16.258798Z"
    },
    "papermill": {
     "duration": 0.355418,
     "end_time": "2020-08-27T13:58:16.259664",
     "exception": false,
     "start_time": "2020-08-27T13:58:15.904246",
     "status": "completed"
    },
    "tags": []
   },
   "outputs": [
    {
     "data": {
      "text/plain": [
       "<matplotlib.axes._subplots.AxesSubplot at 0x7f0957318550>"
      ]
     },
     "execution_count": 6,
     "metadata": {},
     "output_type": "execute_result"
    },
    {
     "data": {
      "image/png": "[encoded data removed]",
      "text/plain": [
       "<Figure size 432x288 with 1 Axes>"
      ]
     },
     "metadata": {
      "needs_background": "light"
     },
     "output_type": "display_data"
    }
   ],
   "source": [
    "sns.barplot(x = data_set['Pclass'],y = data_set['Survived'])"
   ]
  },
  {
   "cell_type": "code",
   "execution_count": 7,
   "metadata": {
    "execution": {
     "iopub.execute_input": "2020-08-27T13:58:16.295798Z",
     "iopub.status.busy": "2020-08-27T13:58:16.294554Z",
     "iopub.status.idle": "2020-08-27T13:58:16.514247Z",
     "shell.execute_reply": "2020-08-27T13:58:16.513502Z"
    },
    "papermill": {
     "duration": 0.240824,
     "end_time": "2020-08-27T13:58:16.514375",
     "exception": false,
     "start_time": "2020-08-27T13:58:16.273551",
     "status": "completed"
    },
    "tags": []
   },
   "outputs": [
    {
     "data": {
      "text/plain": [
       "<matplotlib.axes._subplots.AxesSubplot at 0x7f09570d7fd0>"
      ]
     },
     "execution_count": 7,
     "metadata": {},
     "output_type": "execute_result"
    },
    {
     "data": {
      "image/png": "[encoded data removed]",
      "text/plain": [
       "<Figure size 432x288 with 1 Axes>"
      ]
     },
     "metadata": {
      "needs_background": "light"
     },
     "output_type": "display_data"
    }
   ],
   "source": [
    "sns.barplot(x = 'Sex', y = 'Survived',data = data_set)"
   ]
  },
  {
   "cell_type": "markdown",
   "execution_count": null,
   "metadata": {
    "papermill": {
     "duration": 0.013349,
     "end_time": "2020-08-27T13:58:16.541737",
     "exception": false,
     "start_time": "2020-08-27T13:58:16.528388",
     "status": "completed"
    },
    "tags": []
   },
   "source": [
    "##### so the first class people and females have a high survival rate."
   ]
  },
  {
   "cell_type": "code",
   "execution_count": 8,
   "metadata": {
    "execution": {
     "iopub.execute_input": "2020-08-27T13:58:16.578448Z",
     "iopub.status.busy": "2020-08-27T13:58:16.577592Z",
     "iopub.status.idle": "2020-08-27T13:58:16.828424Z",
     "shell.execute_reply": "2020-08-27T13:58:16.827694Z"
    },
    "papermill": {
     "duration": 0.272976,
     "end_time": "2020-08-27T13:58:16.828554",
     "exception": false,
     "start_time": "2020-08-27T13:58:16.555578",
     "status": "completed"
    },
    "tags": []
   },
   "outputs": [
    {
     "data": {
      "text/plain": [
       "<matplotlib.axes._subplots.AxesSubplot at 0x7f0957049fd0>"
      ]
     },
     "execution_count": 8,
     "metadata": {},
     "output_type": "execute_result"
    },
    {
     "data": {
      "image/png": "[encoded data removed]",
      "text/plain": [
       "<Figure size 432x288 with 1 Axes>"
      ]
     },
     "metadata": {
      "needs_background": "light"
     },
     "output_type": "display_data"
    }
   ],
   "source": [
    "sns.barplot(x = 'Embarked', y = 'Survived', data = data_set)"
   ]
  },
  {
   "cell_type": "markdown",
   "execution_count": null,
   "metadata": {
    "papermill": {
     "duration": 0.014241,
     "end_time": "2020-08-27T13:58:16.857627",
     "exception": false,
     "start_time": "2020-08-27T13:58:16.843386",
     "status": "completed"
    },
    "tags": []
   },
   "source": [
    "\n",
    "* ###### we can infer from the above barplot that people embarked at c has higher rate of survival"
   ]
  },
  {
   "cell_type": "code",
   "execution_count": 9,
   "metadata": {
    "execution": {
     "iopub.execute_input": "2020-08-27T13:58:16.906724Z",
     "iopub.status.busy": "2020-08-27T13:58:16.901189Z",
     "iopub.status.idle": "2020-08-27T13:58:17.405966Z",
     "shell.execute_reply": "2020-08-27T13:58:17.405305Z"
    },
    "papermill": {
     "duration": 0.534197,
     "end_time": "2020-08-27T13:58:17.406095",
     "exception": false,
     "start_time": "2020-08-27T13:58:16.871898",
     "status": "completed"
    },
    "tags": []
   },
   "outputs": [
    {
     "data": {
      "text/plain": [
       "<seaborn.axisgrid.FacetGrid at 0x7f09570de290>"
      ]
     },
     "execution_count": 9,
     "metadata": {},
     "output_type": "execute_result"
    },
    {
     "data": {
      "image/png": "[encoded data removed]",
      "text/plain": [
       "<Figure size 411.875x360 with 1 Axes>"
      ]
     },
     "metadata": {
      "needs_background": "light"
     },
     "output_type": "display_data"
    }
   ],
   "source": [
    "sns.FacetGrid(data= data_set, hue=\"Survived\", height=5) \\\n",
    "   .map(sns.distplot, \"Age\") \\\n",
    "   .add_legend()"
   ]
  },
  {
   "cell_type": "markdown",
   "execution_count": null,
   "metadata": {
    "papermill": {
     "duration": 0.014595,
     "end_time": "2020-08-27T13:58:17.435548",
     "exception": false,
     "start_time": "2020-08-27T13:58:17.420953",
     "status": "completed"
    },
    "tags": []
   },
   "source": [
    "###### the avg age of survival is around 30?\n"
   ]
  },
  {
   "cell_type": "code",
   "execution_count": 10,
   "metadata": {
    "execution": {
     "iopub.execute_input": "2020-08-27T13:58:17.561976Z",
     "iopub.status.busy": "2020-08-27T13:58:17.560878Z",
     "iopub.status.idle": "2020-08-27T13:58:21.087241Z",
     "shell.execute_reply": "2020-08-27T13:58:21.086514Z"
    },
    "papermill": {
     "duration": 3.636839,
     "end_time": "2020-08-27T13:58:21.087386",
     "exception": false,
     "start_time": "2020-08-27T13:58:17.450547",
     "status": "completed"
    },
    "tags": []
   },
   "outputs": [
    {
     "data": {
      "text/plain": [
       "<seaborn.axisgrid.PairGrid at 0x7f0954e397d0>"
      ]
     },
     "execution_count": 10,
     "metadata": {},
     "output_type": "execute_result"
    },
    {
     "data": {
      "image/png": "[encoded data removed]",
      "text/plain": [
       "<Figure size 699.875x648 with 12 Axes>"
      ]
     },
     "metadata": {
      "needs_background": "light"
     },
     "output_type": "display_data"
    }
   ],
   "source": [
    "sns.pairplot(data_set[[\"Survived\",\"Pclass\",\"Fare\",\"Age\"]], hue=\"Survived\", height=3)"
   ]
  },
  {
   "cell_type": "markdown",
   "execution_count": null,
   "metadata": {
    "papermill": {
     "duration": 0.015668,
     "end_time": "2020-08-27T13:58:21.119552",
     "exception": false,
     "start_time": "2020-08-27T13:58:21.103884",
     "status": "completed"
    },
    "tags": []
   },
   "source": [
    "## filling missing data "
   ]
  },
  {
   "cell_type": "code",
   "execution_count": 11,
   "metadata": {
    "execution": {
     "iopub.execute_input": "2020-08-27T13:58:21.162030Z",
     "iopub.status.busy": "2020-08-27T13:58:21.159246Z",
     "iopub.status.idle": "2020-08-27T13:58:21.166266Z",
     "shell.execute_reply": "2020-08-27T13:58:21.166888Z"
    },
    "papermill": {
     "duration": 0.031019,
     "end_time": "2020-08-27T13:58:21.167051",
     "exception": false,
     "start_time": "2020-08-27T13:58:21.136032",
     "status": "completed"
    },
    "tags": []
   },
   "outputs": [
    {
     "data": {
      "text/plain": [
       "PassengerId      0\n",
       "Survived         0\n",
       "Pclass           0\n",
       "Name             0\n",
       "Sex              0\n",
       "Age            177\n",
       "SibSp            0\n",
       "Parch            0\n",
       "Ticket           0\n",
       "Fare             0\n",
       "Cabin          687\n",
       "Embarked         2\n",
       "dtype: int64"
      ]
     },
     "execution_count": 11,
     "metadata": {},
     "output_type": "execute_result"
    }
   ],
   "source": [
    "data_set.isnull().sum()"
   ]
  },
  {
   "cell_type": "code",
   "execution_count": 12,
   "metadata": {
    "execution": {
     "iopub.execute_input": "2020-08-27T13:58:21.207676Z",
     "iopub.status.busy": "2020-08-27T13:58:21.206797Z",
     "iopub.status.idle": "2020-08-27T13:58:21.498079Z",
     "shell.execute_reply": "2020-08-27T13:58:21.497063Z"
    },
    "papermill": {
     "duration": 0.314189,
     "end_time": "2020-08-27T13:58:21.498247",
     "exception": false,
     "start_time": "2020-08-27T13:58:21.184058",
     "status": "completed"
    },
    "tags": []
   },
   "outputs": [],
   "source": [
    "from sklearn.impute import SimpleImputer\n",
    "imputer = SimpleImputer(strategy = 'median', missing_values = np.nan)"
   ]
  },
  {
   "cell_type": "code",
   "execution_count": 13,
   "metadata": {
    "execution": {
     "iopub.execute_input": "2020-08-27T13:58:21.537813Z",
     "iopub.status.busy": "2020-08-27T13:58:21.536783Z",
     "iopub.status.idle": "2020-08-27T13:58:21.540187Z",
     "shell.execute_reply": "2020-08-27T13:58:21.539436Z"
    },
    "papermill": {
     "duration": 0.025622,
     "end_time": "2020-08-27T13:58:21.540317",
     "exception": false,
     "start_time": "2020-08-27T13:58:21.514695",
     "status": "completed"
    },
    "tags": []
   },
   "outputs": [],
   "source": [
    "age = data_set.iloc[:,5:6].values"
   ]
  },
  {
   "cell_type": "code",
   "execution_count": 14,
   "metadata": {
    "execution": {
     "iopub.execute_input": "2020-08-27T13:58:21.579971Z",
     "iopub.status.busy": "2020-08-27T13:58:21.578875Z",
     "iopub.status.idle": "2020-08-27T13:58:21.583859Z",
     "shell.execute_reply": "2020-08-27T13:58:21.584424Z"
    },
    "papermill": {
     "duration": 0.027668,
     "end_time": "2020-08-27T13:58:21.584594",
     "exception": false,
     "start_time": "2020-08-27T13:58:21.556926",
     "status": "completed"
    },
    "tags": []
   },
   "outputs": [],
   "source": [
    "data_set['Age'] =imputer.fit_transform(age)"
   ]
  },
  {
   "cell_type": "code",
   "execution_count": 15,
   "metadata": {
    "execution": {
     "iopub.execute_input": "2020-08-27T13:58:21.624295Z",
     "iopub.status.busy": "2020-08-27T13:58:21.623386Z",
     "iopub.status.idle": "2020-08-27T13:58:21.628641Z",
     "shell.execute_reply": "2020-08-27T13:58:21.627857Z"
    },
    "papermill": {
     "duration": 0.027784,
     "end_time": "2020-08-27T13:58:21.628780",
     "exception": false,
     "start_time": "2020-08-27T13:58:21.600996",
     "status": "completed"
    },
    "tags": []
   },
   "outputs": [
    {
     "data": {
      "text/plain": [
       "0"
      ]
     },
     "execution_count": 15,
     "metadata": {},
     "output_type": "execute_result"
    }
   ],
   "source": [
    "data_set['Age'].isnull().sum()"
   ]
  },
  {
   "cell_type": "code",
   "execution_count": 16,
   "metadata": {
    "execution": {
     "iopub.execute_input": "2020-08-27T13:58:21.670729Z",
     "iopub.status.busy": "2020-08-27T13:58:21.669601Z",
     "iopub.status.idle": "2020-08-27T13:58:21.673972Z",
     "shell.execute_reply": "2020-08-27T13:58:21.674629Z"
    },
    "papermill": {
     "duration": 0.029376,
     "end_time": "2020-08-27T13:58:21.674793",
     "exception": false,
     "start_time": "2020-08-27T13:58:21.645417",
     "status": "completed"
    },
    "tags": []
   },
   "outputs": [
    {
     "data": {
      "text/plain": [
       "'S'"
      ]
     },
     "execution_count": 16,
     "metadata": {},
     "output_type": "execute_result"
    }
   ],
   "source": [
    "data_set['Embarked'].value_counts().idxmax()"
   ]
  },
  {
   "cell_type": "code",
   "execution_count": 17,
   "metadata": {
    "execution": {
     "iopub.execute_input": "2020-08-27T13:58:21.716266Z",
     "iopub.status.busy": "2020-08-27T13:58:21.715209Z",
     "iopub.status.idle": "2020-08-27T13:58:21.718779Z",
     "shell.execute_reply": "2020-08-27T13:58:21.718032Z"
    },
    "papermill": {
     "duration": 0.027154,
     "end_time": "2020-08-27T13:58:21.718907",
     "exception": false,
     "start_time": "2020-08-27T13:58:21.691753",
     "status": "completed"
    },
    "tags": []
   },
   "outputs": [],
   "source": [
    "data_set['Embarked'] = data_set['Embarked'].fillna('mode')"
   ]
  },
  {
   "cell_type": "code",
   "execution_count": 18,
   "metadata": {
    "execution": {
     "iopub.execute_input": "2020-08-27T13:58:21.762642Z",
     "iopub.status.busy": "2020-08-27T13:58:21.761550Z",
     "iopub.status.idle": "2020-08-27T13:58:21.766732Z",
     "shell.execute_reply": "2020-08-27T13:58:21.766136Z"
    },
    "papermill": {
     "duration": 0.031042,
     "end_time": "2020-08-27T13:58:21.766874",
     "exception": false,
     "start_time": "2020-08-27T13:58:21.735832",
     "status": "completed"
    },
    "tags": []
   },
   "outputs": [
    {
     "data": {
      "text/plain": [
       "PassengerId      0\n",
       "Survived         0\n",
       "Pclass           0\n",
       "Name             0\n",
       "Sex              0\n",
       "Age              0\n",
       "SibSp            0\n",
       "Parch            0\n",
       "Ticket           0\n",
       "Fare             0\n",
       "Cabin          687\n",
       "Embarked         0\n",
       "dtype: int64"
      ]
     },
     "execution_count": 18,
     "metadata": {},
     "output_type": "execute_result"
    }
   ],
   "source": [
    "data_set.isnull().sum()"
   ]
  },
  {
   "cell_type": "markdown",
   "execution_count": null,
   "metadata": {
    "papermill": {
     "duration": 0.016633,
     "end_time": "2020-08-27T13:58:21.801284",
     "exception": false,
     "start_time": "2020-08-27T13:58:21.784651",
     "status": "completed"
    },
    "tags": []
   },
   "source": [
    "##  dropping unrelated columns"
   ]
  },
  {
   "cell_type": "code",
   "execution_count": 19,
   "metadata": {
    "_kg_hide-output": true,
    "execution": {
     "iopub.execute_input": "2020-08-27T13:58:21.843637Z",
     "iopub.status.busy": "2020-08-27T13:58:21.842648Z",
     "iopub.status.idle": "2020-08-27T13:58:21.845191Z",
     "shell.execute_reply": "2020-08-27T13:58:21.845924Z"
    },
    "papermill": {
     "duration": 0.027788,
     "end_time": "2020-08-27T13:58:21.846090",
     "exception": false,
     "start_time": "2020-08-27T13:58:21.818302",
     "status": "completed"
    },
    "tags": []
   },
   "outputs": [],
   "source": [
    "data_set = data_set.drop(['SibSp','Parch','Ticket','Name','Cabin'],axis = 1)"
   ]
  },
  {
   "cell_type": "code",
   "execution_count": 20,
   "metadata": {
    "execution": {
     "iopub.execute_input": "2020-08-27T13:58:21.903500Z",
     "iopub.status.busy": "2020-08-27T13:58:21.902503Z",
     "iopub.status.idle": "2020-08-27T13:58:21.908480Z",
     "shell.execute_reply": "2020-08-27T13:58:21.907691Z"
    },
    "papermill": {
     "duration": 0.044568,
     "end_time": "2020-08-27T13:58:21.908615",
     "exception": false,
     "start_time": "2020-08-27T13:58:21.864047",
     "status": "completed"
    },
    "tags": []
   },
   "outputs": [
    {
     "data": {
      "text/html": [
       "<div>\n",
       "<style scoped>\n",
       "    .dataframe tbody tr th:only-of-type {\n",
       "        vertical-align: middle;\n",
       "    }\n",
       "\n",
       "    .dataframe tbody tr th {\n",
       "        vertical-align: top;\n",
       "    }\n",
       "\n",
       "    .dataframe thead th {\n",
       "        text-align: right;\n",
       "    }\n",
       "</style>\n",
       "<table border=\"1\" class=\"dataframe\">\n",
       "  <thead>\n",
       "    <tr style=\"text-align: right;\">\n",
       "      <th></th>\n",
       "      <th>PassengerId</th>\n",
       "      <th>Survived</th>\n",
       "      <th>Pclass</th>\n",
       "      <th>Sex</th>\n",
       "      <th>Age</th>\n",
       "      <th>Fare</th>\n",
       "      <th>Embarked</th>\n",
       "    </tr>\n",
       "  </thead>\n",
       "  <tbody>\n",
       "    <tr>\n",
       "      <th>0</th>\n",
       "      <td>1</td>\n",
       "      <td>0</td>\n",
       "      <td>3</td>\n",
       "      <td>male</td>\n",
       "      <td>22.0</td>\n",
       "      <td>7.2500</td>\n",
       "      <td>S</td>\n",
       "    </tr>\n",
       "    <tr>\n",
       "      <th>1</th>\n",
       "      <td>2</td>\n",
       "      <td>1</td>\n",
       "      <td>1</td>\n",
       "      <td>female</td>\n",
       "      <td>38.0</td>\n",
       "      <td>71.2833</td>\n",
       "      <td>C</td>\n",
       "    </tr>\n",
       "    <tr>\n",
       "      <th>2</th>\n",
       "      <td>3</td>\n",
       "      <td>1</td>\n",
       "      <td>3</td>\n",
       "      <td>female</td>\n",
       "      <td>26.0</td>\n",
       "      <td>7.9250</td>\n",
       "      <td>S</td>\n",
       "    </tr>\n",
       "    <tr>\n",
       "      <th>3</th>\n",
       "      <td>4</td>\n",
       "      <td>1</td>\n",
       "      <td>1</td>\n",
       "      <td>female</td>\n",
       "      <td>35.0</td>\n",
       "      <td>53.1000</td>\n",
       "      <td>S</td>\n",
       "    </tr>\n",
       "    <tr>\n",
       "      <th>4</th>\n",
       "      <td>5</td>\n",
       "      <td>0</td>\n",
       "      <td>3</td>\n",
       "      <td>male</td>\n",
       "      <td>35.0</td>\n",
       "      <td>8.0500</td>\n",
       "      <td>S</td>\n",
       "    </tr>\n",
       "    <tr>\n",
       "      <th>...</th>\n",
       "      <td>...</td>\n",
       "      <td>...</td>\n",
       "      <td>...</td>\n",
       "      <td>...</td>\n",
       "      <td>...</td>\n",
       "      <td>...</td>\n",
       "      <td>...</td>\n",
       "    </tr>\n",
       "    <tr>\n",
       "      <th>886</th>\n",
       "      <td>887</td>\n",
       "      <td>0</td>\n",
       "      <td>2</td>\n",
       "      <td>male</td>\n",
       "      <td>27.0</td>\n",
       "      <td>13.0000</td>\n",
       "      <td>S</td>\n",
       "    </tr>\n",
       "    <tr>\n",
       "      <th>887</th>\n",
       "      <td>888</td>\n",
       "      <td>1</td>\n",
       "      <td>1</td>\n",
       "      <td>female</td>\n",
       "      <td>19.0</td>\n",
       "      <td>30.0000</td>\n",
       "      <td>S</td>\n",
       "    </tr>\n",
       "    <tr>\n",
       "      <th>888</th>\n",
       "      <td>889</td>\n",
       "      <td>0</td>\n",
       "      <td>3</td>\n",
       "      <td>female</td>\n",
       "      <td>28.0</td>\n",
       "      <td>23.4500</td>\n",
       "      <td>S</td>\n",
       "    </tr>\n",
       "    <tr>\n",
       "      <th>889</th>\n",
       "      <td>890</td>\n",
       "      <td>1</td>\n",
       "      <td>1</td>\n",
       "      <td>male</td>\n",
       "      <td>26.0</td>\n",
       "      <td>30.0000</td>\n",
       "      <td>C</td>\n",
       "    </tr>\n",
       "    <tr>\n",
       "      <th>890</th>\n",
       "      <td>891</td>\n",
       "      <td>0</td>\n",
       "      <td>3</td>\n",
       "      <td>male</td>\n",
       "      <td>32.0</td>\n",
       "      <td>7.7500</td>\n",
       "      <td>Q</td>\n",
       "    </tr>\n",
       "  </tbody>\n",
       "</table>\n",
       "<p>891 rows × 7 columns</p>\n",
       "</div>"
      ],
      "text/plain": [
       "     PassengerId  Survived  Pclass     Sex   Age     Fare Embarked\n",
       "0              1         0       3    male  22.0   7.2500        S\n",
       "1              2         1       1  female  38.0  71.2833        C\n",
       "2              3         1       3  female  26.0   7.9250        S\n",
       "3              4         1       1  female  35.0  53.1000        S\n",
       "4              5         0       3    male  35.0   8.0500        S\n",
       "..           ...       ...     ...     ...   ...      ...      ...\n",
       "886          887         0       2    male  27.0  13.0000        S\n",
       "887          888         1       1  female  19.0  30.0000        S\n",
       "888          889         0       3  female  28.0  23.4500        S\n",
       "889          890         1       1    male  26.0  30.0000        C\n",
       "890          891         0       3    male  32.0   7.7500        Q\n",
       "\n",
       "[891 rows x 7 columns]"
      ]
     },
     "execution_count": 20,
     "metadata": {},
     "output_type": "execute_result"
    }
   ],
   "source": [
    "data_set"
   ]
  },
  {
   "cell_type": "markdown",
   "execution_count": null,
   "metadata": {
    "papermill": {
     "duration": 0.018066,
     "end_time": "2020-08-27T13:58:21.945053",
     "exception": false,
     "start_time": "2020-08-27T13:58:21.926987",
     "status": "completed"
    },
    "tags": []
   },
   "source": [
    "## correlation check"
   ]
  },
  {
   "cell_type": "code",
   "execution_count": 21,
   "metadata": {
    "execution": {
     "iopub.execute_input": "2020-08-27T13:58:21.987857Z",
     "iopub.status.busy": "2020-08-27T13:58:21.987048Z",
     "iopub.status.idle": "2020-08-27T13:58:22.288058Z",
     "shell.execute_reply": "2020-08-27T13:58:22.286897Z"
    },
    "papermill": {
     "duration": 0.324463,
     "end_time": "2020-08-27T13:58:22.288250",
     "exception": false,
     "start_time": "2020-08-27T13:58:21.963787",
     "status": "completed"
    },
    "tags": []
   },
   "outputs": [
    {
     "data": {
      "text/plain": [
       "<matplotlib.axes._subplots.AxesSubplot at 0x7f09500b1d90>"
      ]
     },
     "execution_count": 21,
     "metadata": {},
     "output_type": "execute_result"
    },
    {
     "data": {
      "image/png": "[encoded data removed]",
      "text/plain": [
       "<Figure size 432x288 with 2 Axes>"
      ]
     },
     "metadata": {
      "needs_background": "light"
     },
     "output_type": "display_data"
    }
   ],
   "source": [
    "sns.heatmap(data_set.corr(),annot = True, cmap = 'Blues')"
   ]
  },
  {
   "cell_type": "markdown",
   "execution_count": null,
   "metadata": {
    "papermill": {
     "duration": 0.017505,
     "end_time": "2020-08-27T13:58:22.324740",
     "exception": false,
     "start_time": "2020-08-27T13:58:22.307235",
     "status": "completed"
    },
    "tags": []
   },
   "source": [
    "## handling categorical data"
   ]
  },
  {
   "cell_type": "code",
   "execution_count": 22,
   "metadata": {
    "execution": {
     "iopub.execute_input": "2020-08-27T13:58:22.366933Z",
     "iopub.status.busy": "2020-08-27T13:58:22.365757Z",
     "iopub.status.idle": "2020-08-27T13:58:22.369253Z",
     "shell.execute_reply": "2020-08-27T13:58:22.368501Z"
    },
    "papermill": {
     "duration": 0.026796,
     "end_time": "2020-08-27T13:58:22.369384",
     "exception": false,
     "start_time": "2020-08-27T13:58:22.342588",
     "status": "completed"
    },
    "tags": []
   },
   "outputs": [],
   "source": [
    "from sklearn.preprocessing import LabelEncoder\n",
    "encoder = LabelEncoder()"
   ]
  },
  {
   "cell_type": "code",
   "execution_count": 23,
   "metadata": {
    "execution": {
     "iopub.execute_input": "2020-08-27T13:58:22.412780Z",
     "iopub.status.busy": "2020-08-27T13:58:22.411719Z",
     "iopub.status.idle": "2020-08-27T13:58:22.415335Z",
     "shell.execute_reply": "2020-08-27T13:58:22.414756Z"
    },
    "papermill": {
     "duration": 0.02792,
     "end_time": "2020-08-27T13:58:22.415467",
     "exception": false,
     "start_time": "2020-08-27T13:58:22.387547",
     "status": "completed"
    },
    "tags": []
   },
   "outputs": [],
   "source": [
    "data_set['Embarked'] = encoder.fit_transform(data_set['Embarked'])"
   ]
  },
  {
   "cell_type": "code",
   "execution_count": 24,
   "metadata": {
    "execution": {
     "iopub.execute_input": "2020-08-27T13:58:22.474510Z",
     "iopub.status.busy": "2020-08-27T13:58:22.473417Z",
     "iopub.status.idle": "2020-08-27T13:58:22.478268Z",
     "shell.execute_reply": "2020-08-27T13:58:22.477544Z"
    },
    "papermill": {
     "duration": 0.044973,
     "end_time": "2020-08-27T13:58:22.478399",
     "exception": false,
     "start_time": "2020-08-27T13:58:22.433426",
     "status": "completed"
    },
    "tags": []
   },
   "outputs": [
    {
     "data": {
      "text/html": [
       "<div>\n",
       "<style scoped>\n",
       "    .dataframe tbody tr th:only-of-type {\n",
       "        vertical-align: middle;\n",
       "    }\n",
       "\n",
       "    .dataframe tbody tr th {\n",
       "        vertical-align: top;\n",
       "    }\n",
       "\n",
       "    .dataframe thead th {\n",
       "        text-align: right;\n",
       "    }\n",
       "</style>\n",
       "<table border=\"1\" class=\"dataframe\">\n",
       "  <thead>\n",
       "    <tr style=\"text-align: right;\">\n",
       "      <th></th>\n",
       "      <th>PassengerId</th>\n",
       "      <th>Survived</th>\n",
       "      <th>Pclass</th>\n",
       "      <th>Sex</th>\n",
       "      <th>Age</th>\n",
       "      <th>Fare</th>\n",
       "      <th>Embarked</th>\n",
       "    </tr>\n",
       "  </thead>\n",
       "  <tbody>\n",
       "    <tr>\n",
       "      <th>0</th>\n",
       "      <td>1</td>\n",
       "      <td>0</td>\n",
       "      <td>3</td>\n",
       "      <td>0</td>\n",
       "      <td>22.0</td>\n",
       "      <td>7.2500</td>\n",
       "      <td>2</td>\n",
       "    </tr>\n",
       "    <tr>\n",
       "      <th>1</th>\n",
       "      <td>2</td>\n",
       "      <td>1</td>\n",
       "      <td>1</td>\n",
       "      <td>1</td>\n",
       "      <td>38.0</td>\n",
       "      <td>71.2833</td>\n",
       "      <td>0</td>\n",
       "    </tr>\n",
       "    <tr>\n",
       "      <th>2</th>\n",
       "      <td>3</td>\n",
       "      <td>1</td>\n",
       "      <td>3</td>\n",
       "      <td>1</td>\n",
       "      <td>26.0</td>\n",
       "      <td>7.9250</td>\n",
       "      <td>2</td>\n",
       "    </tr>\n",
       "    <tr>\n",
       "      <th>3</th>\n",
       "      <td>4</td>\n",
       "      <td>1</td>\n",
       "      <td>1</td>\n",
       "      <td>1</td>\n",
       "      <td>35.0</td>\n",
       "      <td>53.1000</td>\n",
       "      <td>2</td>\n",
       "    </tr>\n",
       "    <tr>\n",
       "      <th>4</th>\n",
       "      <td>5</td>\n",
       "      <td>0</td>\n",
       "      <td>3</td>\n",
       "      <td>0</td>\n",
       "      <td>35.0</td>\n",
       "      <td>8.0500</td>\n",
       "      <td>2</td>\n",
       "    </tr>\n",
       "    <tr>\n",
       "      <th>...</th>\n",
       "      <td>...</td>\n",
       "      <td>...</td>\n",
       "      <td>...</td>\n",
       "      <td>...</td>\n",
       "      <td>...</td>\n",
       "      <td>...</td>\n",
       "      <td>...</td>\n",
       "    </tr>\n",
       "    <tr>\n",
       "      <th>886</th>\n",
       "      <td>887</td>\n",
       "      <td>0</td>\n",
       "      <td>2</td>\n",
       "      <td>0</td>\n",
       "      <td>27.0</td>\n",
       "      <td>13.0000</td>\n",
       "      <td>2</td>\n",
       "    </tr>\n",
       "    <tr>\n",
       "      <th>887</th>\n",
       "      <td>888</td>\n",
       "      <td>1</td>\n",
       "      <td>1</td>\n",
       "      <td>1</td>\n",
       "      <td>19.0</td>\n",
       "      <td>30.0000</td>\n",
       "      <td>2</td>\n",
       "    </tr>\n",
       "    <tr>\n",
       "      <th>888</th>\n",
       "      <td>889</td>\n",
       "      <td>0</td>\n",
       "      <td>3</td>\n",
       "      <td>1</td>\n",
       "      <td>28.0</td>\n",
       "      <td>23.4500</td>\n",
       "      <td>2</td>\n",
       "    </tr>\n",
       "    <tr>\n",
       "      <th>889</th>\n",
       "      <td>890</td>\n",
       "      <td>1</td>\n",
       "      <td>1</td>\n",
       "      <td>0</td>\n",
       "      <td>26.0</td>\n",
       "      <td>30.0000</td>\n",
       "      <td>0</td>\n",
       "    </tr>\n",
       "    <tr>\n",
       "      <th>890</th>\n",
       "      <td>891</td>\n",
       "      <td>0</td>\n",
       "      <td>3</td>\n",
       "      <td>0</td>\n",
       "      <td>32.0</td>\n",
       "      <td>7.7500</td>\n",
       "      <td>1</td>\n",
       "    </tr>\n",
       "  </tbody>\n",
       "</table>\n",
       "<p>891 rows × 7 columns</p>\n",
       "</div>"
      ],
      "text/plain": [
       "     PassengerId  Survived  Pclass  Sex   Age     Fare  Embarked\n",
       "0              1         0       3    0  22.0   7.2500         2\n",
       "1              2         1       1    1  38.0  71.2833         0\n",
       "2              3         1       3    1  26.0   7.9250         2\n",
       "3              4         1       1    1  35.0  53.1000         2\n",
       "4              5         0       3    0  35.0   8.0500         2\n",
       "..           ...       ...     ...  ...   ...      ...       ...\n",
       "886          887         0       2    0  27.0  13.0000         2\n",
       "887          888         1       1    1  19.0  30.0000         2\n",
       "888          889         0       3    1  28.0  23.4500         2\n",
       "889          890         1       1    0  26.0  30.0000         0\n",
       "890          891         0       3    0  32.0   7.7500         1\n",
       "\n",
       "[891 rows x 7 columns]"
      ]
     },
     "execution_count": 24,
     "metadata": {},
     "output_type": "execute_result"
    }
   ],
   "source": [
    "data_set['Sex'] = data_set['Sex'].replace(to_replace = ['male','female'], value = [0,1])\n",
    "data_set"
   ]
  },
  {
   "cell_type": "markdown",
   "execution_count": null,
   "metadata": {
    "papermill": {
     "duration": 0.017624,
     "end_time": "2020-08-27T13:58:22.514485",
     "exception": false,
     "start_time": "2020-08-27T13:58:22.496861",
     "status": "completed"
    },
    "tags": []
   },
   "source": [
    "## Model_selection -- logistic regression"
   ]
  },
  {
   "cell_type": "code",
   "execution_count": 25,
   "metadata": {
    "execution": {
     "iopub.execute_input": "2020-08-27T13:58:22.558102Z",
     "iopub.status.busy": "2020-08-27T13:58:22.556629Z",
     "iopub.status.idle": "2020-08-27T13:58:22.561712Z",
     "shell.execute_reply": "2020-08-27T13:58:22.561017Z"
    },
    "papermill": {
     "duration": 0.029384,
     "end_time": "2020-08-27T13:58:22.561849",
     "exception": false,
     "start_time": "2020-08-27T13:58:22.532465",
     "status": "completed"
    },
    "tags": []
   },
   "outputs": [],
   "source": [
    "x = data_set.iloc[:,[0,2,3,4,5,6]].values\n",
    "y = data_set.iloc[:,1].values\n"
   ]
  },
  {
   "cell_type": "code",
   "execution_count": 26,
   "metadata": {
    "execution": {
     "iopub.execute_input": "2020-08-27T13:58:22.604848Z",
     "iopub.status.busy": "2020-08-27T13:58:22.604058Z",
     "iopub.status.idle": "2020-08-27T13:58:22.607047Z",
     "shell.execute_reply": "2020-08-27T13:58:22.606354Z"
    },
    "papermill": {
     "duration": 0.026488,
     "end_time": "2020-08-27T13:58:22.607191",
     "exception": false,
     "start_time": "2020-08-27T13:58:22.580703",
     "status": "completed"
    },
    "tags": []
   },
   "outputs": [],
   "source": [
    "from sklearn.linear_model import LogisticRegression\n",
    "reg_model = LogisticRegression()"
   ]
  },
  {
   "cell_type": "code",
   "execution_count": 27,
   "metadata": {
    "execution": {
     "iopub.execute_input": "2020-08-27T13:58:22.652261Z",
     "iopub.status.busy": "2020-08-27T13:58:22.649664Z",
     "iopub.status.idle": "2020-08-27T13:58:22.700850Z",
     "shell.execute_reply": "2020-08-27T13:58:22.700067Z"
    },
    "papermill": {
     "duration": 0.075446,
     "end_time": "2020-08-27T13:58:22.700978",
     "exception": false,
     "start_time": "2020-08-27T13:58:22.625532",
     "status": "completed"
    },
    "tags": []
   },
   "outputs": [
    {
     "data": {
      "text/plain": [
       "LogisticRegression()"
      ]
     },
     "execution_count": 27,
     "metadata": {},
     "output_type": "execute_result"
    }
   ],
   "source": [
    "reg_model.fit(x,y)"
   ]
  },
  {
   "cell_type": "markdown",
   "execution_count": null,
   "metadata": {
    "papermill": {
     "duration": 0.018488,
     "end_time": "2020-08-27T13:58:22.738293",
     "exception": false,
     "start_time": "2020-08-27T13:58:22.719805",
     "status": "completed"
    },
    "tags": []
   },
   "source": [
    "## test_set preprocessing"
   ]
  },
  {
   "cell_type": "code",
   "execution_count": 28,
   "metadata": {
    "execution": {
     "iopub.execute_input": "2020-08-27T13:58:22.784042Z",
     "iopub.status.busy": "2020-08-27T13:58:22.783162Z",
     "iopub.status.idle": "2020-08-27T13:58:22.810929Z",
     "shell.execute_reply": "2020-08-27T13:58:22.810031Z"
    },
    "papermill": {
     "duration": 0.054009,
     "end_time": "2020-08-27T13:58:22.811076",
     "exception": false,
     "start_time": "2020-08-27T13:58:22.757067",
     "status": "completed"
    },
    "tags": []
   },
   "outputs": [
    {
     "data": {
      "text/html": [
       "<div>\n",
       "<style scoped>\n",
       "    .dataframe tbody tr th:only-of-type {\n",
       "        vertical-align: middle;\n",
       "    }\n",
       "\n",
       "    .dataframe tbody tr th {\n",
       "        vertical-align: top;\n",
       "    }\n",
       "\n",
       "    .dataframe thead th {\n",
       "        text-align: right;\n",
       "    }\n",
       "</style>\n",
       "<table border=\"1\" class=\"dataframe\">\n",
       "  <thead>\n",
       "    <tr style=\"text-align: right;\">\n",
       "      <th></th>\n",
       "      <th>PassengerId</th>\n",
       "      <th>Pclass</th>\n",
       "      <th>Name</th>\n",
       "      <th>Sex</th>\n",
       "      <th>Age</th>\n",
       "      <th>SibSp</th>\n",
       "      <th>Parch</th>\n",
       "      <th>Ticket</th>\n",
       "      <th>Fare</th>\n",
       "      <th>Cabin</th>\n",
       "      <th>Embarked</th>\n",
       "    </tr>\n",
       "  </thead>\n",
       "  <tbody>\n",
       "    <tr>\n",
       "      <th>0</th>\n",
       "      <td>892</td>\n",
       "      <td>3</td>\n",
       "      <td>Kelly, Mr. James</td>\n",
       "      <td>male</td>\n",
       "      <td>34.5</td>\n",
       "      <td>0</td>\n",
       "      <td>0</td>\n",
       "      <td>330911</td>\n",
       "      <td>7.8292</td>\n",
       "      <td>NaN</td>\n",
       "      <td>Q</td>\n",
       "    </tr>\n",
       "    <tr>\n",
       "      <th>1</th>\n",
       "      <td>893</td>\n",
       "      <td>3</td>\n",
       "      <td>Wilkes, Mrs. James (Ellen Needs)</td>\n",
       "      <td>female</td>\n",
       "      <td>47.0</td>\n",
       "      <td>1</td>\n",
       "      <td>0</td>\n",
       "      <td>363272</td>\n",
       "      <td>7.0000</td>\n",
       "      <td>NaN</td>\n",
       "      <td>S</td>\n",
       "    </tr>\n",
       "    <tr>\n",
       "      <th>2</th>\n",
       "      <td>894</td>\n",
       "      <td>2</td>\n",
       "      <td>Myles, Mr. Thomas Francis</td>\n",
       "      <td>male</td>\n",
       "      <td>62.0</td>\n",
       "      <td>0</td>\n",
       "      <td>0</td>\n",
       "      <td>240276</td>\n",
       "      <td>9.6875</td>\n",
       "      <td>NaN</td>\n",
       "      <td>Q</td>\n",
       "    </tr>\n",
       "    <tr>\n",
       "      <th>3</th>\n",
       "      <td>895</td>\n",
       "      <td>3</td>\n",
       "      <td>Wirz, Mr. Albert</td>\n",
       "      <td>male</td>\n",
       "      <td>27.0</td>\n",
       "      <td>0</td>\n",
       "      <td>0</td>\n",
       "      <td>315154</td>\n",
       "      <td>8.6625</td>\n",
       "      <td>NaN</td>\n",
       "      <td>S</td>\n",
       "    </tr>\n",
       "    <tr>\n",
       "      <th>4</th>\n",
       "      <td>896</td>\n",
       "      <td>3</td>\n",
       "      <td>Hirvonen, Mrs. Alexander (Helga E Lindqvist)</td>\n",
       "      <td>female</td>\n",
       "      <td>22.0</td>\n",
       "      <td>1</td>\n",
       "      <td>1</td>\n",
       "      <td>3101298</td>\n",
       "      <td>12.2875</td>\n",
       "      <td>NaN</td>\n",
       "      <td>S</td>\n",
       "    </tr>\n",
       "  </tbody>\n",
       "</table>\n",
       "</div>"
      ],
      "text/plain": [
       "   PassengerId  Pclass                                          Name     Sex  \\\n",
       "0          892       3                              Kelly, Mr. James    male   \n",
       "1          893       3              Wilkes, Mrs. James (Ellen Needs)  female   \n",
       "2          894       2                     Myles, Mr. Thomas Francis    male   \n",
       "3          895       3                              Wirz, Mr. Albert    male   \n",
       "4          896       3  Hirvonen, Mrs. Alexander (Helga E Lindqvist)  female   \n",
       "\n",
       "    Age  SibSp  Parch   Ticket     Fare Cabin Embarked  \n",
       "0  34.5      0      0   330911   7.8292   NaN        Q  \n",
       "1  47.0      1      0   363272   7.0000   NaN        S  \n",
       "2  62.0      0      0   240276   9.6875   NaN        Q  \n",
       "3  27.0      0      0   315154   8.6625   NaN        S  \n",
       "4  22.0      1      1  3101298  12.2875   NaN        S  "
      ]
     },
     "execution_count": 28,
     "metadata": {},
     "output_type": "execute_result"
    }
   ],
   "source": [
    "test_set = pd.read_csv('/kaggle/input/titanic/test.csv')\n",
    "test_set.head()"
   ]
  },
  {
   "cell_type": "code",
   "execution_count": 29,
   "metadata": {
    "execution": {
     "iopub.execute_input": "2020-08-27T13:58:22.875188Z",
     "iopub.status.busy": "2020-08-27T13:58:22.874215Z",
     "iopub.status.idle": "2020-08-27T13:58:22.879528Z",
     "shell.execute_reply": "2020-08-27T13:58:22.878779Z"
    },
    "papermill": {
     "duration": 0.046803,
     "end_time": "2020-08-27T13:58:22.879670",
     "exception": false,
     "start_time": "2020-08-27T13:58:22.832867",
     "status": "completed"
    },
    "tags": []
   },
   "outputs": [
    {
     "data": {
      "text/html": [
       "<div>\n",
       "<style scoped>\n",
       "    .dataframe tbody tr th:only-of-type {\n",
       "        vertical-align: middle;\n",
       "    }\n",
       "\n",
       "    .dataframe tbody tr th {\n",
       "        vertical-align: top;\n",
       "    }\n",
       "\n",
       "    .dataframe thead th {\n",
       "        text-align: right;\n",
       "    }\n",
       "</style>\n",
       "<table border=\"1\" class=\"dataframe\">\n",
       "  <thead>\n",
       "    <tr style=\"text-align: right;\">\n",
       "      <th></th>\n",
       "      <th>PassengerId</th>\n",
       "      <th>Pclass</th>\n",
       "      <th>Sex</th>\n",
       "      <th>Age</th>\n",
       "      <th>Fare</th>\n",
       "      <th>Embarked</th>\n",
       "    </tr>\n",
       "  </thead>\n",
       "  <tbody>\n",
       "    <tr>\n",
       "      <th>0</th>\n",
       "      <td>892</td>\n",
       "      <td>3</td>\n",
       "      <td>male</td>\n",
       "      <td>34.5</td>\n",
       "      <td>7.8292</td>\n",
       "      <td>Q</td>\n",
       "    </tr>\n",
       "    <tr>\n",
       "      <th>1</th>\n",
       "      <td>893</td>\n",
       "      <td>3</td>\n",
       "      <td>female</td>\n",
       "      <td>47.0</td>\n",
       "      <td>7.0000</td>\n",
       "      <td>S</td>\n",
       "    </tr>\n",
       "    <tr>\n",
       "      <th>2</th>\n",
       "      <td>894</td>\n",
       "      <td>2</td>\n",
       "      <td>male</td>\n",
       "      <td>62.0</td>\n",
       "      <td>9.6875</td>\n",
       "      <td>Q</td>\n",
       "    </tr>\n",
       "    <tr>\n",
       "      <th>3</th>\n",
       "      <td>895</td>\n",
       "      <td>3</td>\n",
       "      <td>male</td>\n",
       "      <td>27.0</td>\n",
       "      <td>8.6625</td>\n",
       "      <td>S</td>\n",
       "    </tr>\n",
       "    <tr>\n",
       "      <th>4</th>\n",
       "      <td>896</td>\n",
       "      <td>3</td>\n",
       "      <td>female</td>\n",
       "      <td>22.0</td>\n",
       "      <td>12.2875</td>\n",
       "      <td>S</td>\n",
       "    </tr>\n",
       "    <tr>\n",
       "      <th>...</th>\n",
       "      <td>...</td>\n",
       "      <td>...</td>\n",
       "      <td>...</td>\n",
       "      <td>...</td>\n",
       "      <td>...</td>\n",
       "      <td>...</td>\n",
       "    </tr>\n",
       "    <tr>\n",
       "      <th>413</th>\n",
       "      <td>1305</td>\n",
       "      <td>3</td>\n",
       "      <td>male</td>\n",
       "      <td>NaN</td>\n",
       "      <td>8.0500</td>\n",
       "      <td>S</td>\n",
       "    </tr>\n",
       "    <tr>\n",
       "      <th>414</th>\n",
       "      <td>1306</td>\n",
       "      <td>1</td>\n",
       "      <td>female</td>\n",
       "      <td>39.0</td>\n",
       "      <td>108.9000</td>\n",
       "      <td>C</td>\n",
       "    </tr>\n",
       "    <tr>\n",
       "      <th>415</th>\n",
       "      <td>1307</td>\n",
       "      <td>3</td>\n",
       "      <td>male</td>\n",
       "      <td>38.5</td>\n",
       "      <td>7.2500</td>\n",
       "      <td>S</td>\n",
       "    </tr>\n",
       "    <tr>\n",
       "      <th>416</th>\n",
       "      <td>1308</td>\n",
       "      <td>3</td>\n",
       "      <td>male</td>\n",
       "      <td>NaN</td>\n",
       "      <td>8.0500</td>\n",
       "      <td>S</td>\n",
       "    </tr>\n",
       "    <tr>\n",
       "      <th>417</th>\n",
       "      <td>1309</td>\n",
       "      <td>3</td>\n",
       "      <td>male</td>\n",
       "      <td>NaN</td>\n",
       "      <td>22.3583</td>\n",
       "      <td>C</td>\n",
       "    </tr>\n",
       "  </tbody>\n",
       "</table>\n",
       "<p>418 rows × 6 columns</p>\n",
       "</div>"
      ],
      "text/plain": [
       "     PassengerId  Pclass     Sex   Age      Fare Embarked\n",
       "0            892       3    male  34.5    7.8292        Q\n",
       "1            893       3  female  47.0    7.0000        S\n",
       "2            894       2    male  62.0    9.6875        Q\n",
       "3            895       3    male  27.0    8.6625        S\n",
       "4            896       3  female  22.0   12.2875        S\n",
       "..           ...     ...     ...   ...       ...      ...\n",
       "413         1305       3    male   NaN    8.0500        S\n",
       "414         1306       1  female  39.0  108.9000        C\n",
       "415         1307       3    male  38.5    7.2500        S\n",
       "416         1308       3    male   NaN    8.0500        S\n",
       "417         1309       3    male   NaN   22.3583        C\n",
       "\n",
       "[418 rows x 6 columns]"
      ]
     },
     "execution_count": 29,
     "metadata": {},
     "output_type": "execute_result"
    }
   ],
   "source": [
    "test_set = test_set.drop(['Name','SibSp','Parch','Cabin','Ticket'],axis = 1)\n",
    "test_set"
   ]
  },
  {
   "cell_type": "code",
   "execution_count": 30,
   "metadata": {
    "execution": {
     "iopub.execute_input": "2020-08-27T13:58:22.927652Z",
     "iopub.status.busy": "2020-08-27T13:58:22.926756Z",
     "iopub.status.idle": "2020-08-27T13:58:22.931568Z",
     "shell.execute_reply": "2020-08-27T13:58:22.930933Z"
    },
    "papermill": {
     "duration": 0.032656,
     "end_time": "2020-08-27T13:58:22.931709",
     "exception": false,
     "start_time": "2020-08-27T13:58:22.899053",
     "status": "completed"
    },
    "tags": []
   },
   "outputs": [
    {
     "data": {
      "text/plain": [
       "PassengerId     0\n",
       "Pclass          0\n",
       "Sex             0\n",
       "Age            86\n",
       "Fare            1\n",
       "Embarked        0\n",
       "dtype: int64"
      ]
     },
     "execution_count": 30,
     "metadata": {},
     "output_type": "execute_result"
    }
   ],
   "source": [
    "test_set.isnull().sum()"
   ]
  },
  {
   "cell_type": "code",
   "execution_count": 31,
   "metadata": {
    "execution": {
     "iopub.execute_input": "2020-08-27T13:58:22.982213Z",
     "iopub.status.busy": "2020-08-27T13:58:22.981158Z",
     "iopub.status.idle": "2020-08-27T13:58:22.984787Z",
     "shell.execute_reply": "2020-08-27T13:58:22.983970Z"
    },
    "papermill": {
     "duration": 0.032707,
     "end_time": "2020-08-27T13:58:22.984923",
     "exception": false,
     "start_time": "2020-08-27T13:58:22.952216",
     "status": "completed"
    },
    "tags": []
   },
   "outputs": [],
   "source": [
    "test_set['Embarked'] = encoder.transform(test_set['Embarked'])\n",
    "test_set['Sex'] = test_set['Sex'].replace(to_replace = ['male','female'], value = [0,1])"
   ]
  },
  {
   "cell_type": "code",
   "execution_count": 32,
   "metadata": {
    "execution": {
     "iopub.execute_input": "2020-08-27T13:58:23.034395Z",
     "iopub.status.busy": "2020-08-27T13:58:23.033307Z",
     "iopub.status.idle": "2020-08-27T13:58:23.036816Z",
     "shell.execute_reply": "2020-08-27T13:58:23.036067Z"
    },
    "papermill": {
     "duration": 0.031273,
     "end_time": "2020-08-27T13:58:23.036942",
     "exception": false,
     "start_time": "2020-08-27T13:58:23.005669",
     "status": "completed"
    },
    "tags": []
   },
   "outputs": [],
   "source": [
    "t_age = test_set.iloc[:,3:4].values\n",
    "test_set['Age'] = imputer.transform(t_age)"
   ]
  },
  {
   "cell_type": "code",
   "execution_count": 33,
   "metadata": {
    "execution": {
     "iopub.execute_input": "2020-08-27T13:58:23.098333Z",
     "iopub.status.busy": "2020-08-27T13:58:23.097039Z",
     "iopub.status.idle": "2020-08-27T13:58:23.102104Z",
     "shell.execute_reply": "2020-08-27T13:58:23.101329Z"
    },
    "papermill": {
     "duration": 0.045044,
     "end_time": "2020-08-27T13:58:23.102255",
     "exception": false,
     "start_time": "2020-08-27T13:58:23.057211",
     "status": "completed"
    },
    "tags": []
   },
   "outputs": [
    {
     "data": {
      "text/html": [
       "<div>\n",
       "<style scoped>\n",
       "    .dataframe tbody tr th:only-of-type {\n",
       "        vertical-align: middle;\n",
       "    }\n",
       "\n",
       "    .dataframe tbody tr th {\n",
       "        vertical-align: top;\n",
       "    }\n",
       "\n",
       "    .dataframe thead th {\n",
       "        text-align: right;\n",
       "    }\n",
       "</style>\n",
       "<table border=\"1\" class=\"dataframe\">\n",
       "  <thead>\n",
       "    <tr style=\"text-align: right;\">\n",
       "      <th></th>\n",
       "      <th>PassengerId</th>\n",
       "      <th>Pclass</th>\n",
       "      <th>Sex</th>\n",
       "      <th>Age</th>\n",
       "      <th>Fare</th>\n",
       "      <th>Embarked</th>\n",
       "    </tr>\n",
       "  </thead>\n",
       "  <tbody>\n",
       "    <tr>\n",
       "      <th>0</th>\n",
       "      <td>892</td>\n",
       "      <td>3</td>\n",
       "      <td>0</td>\n",
       "      <td>34.5</td>\n",
       "      <td>7.8292</td>\n",
       "      <td>1</td>\n",
       "    </tr>\n",
       "    <tr>\n",
       "      <th>1</th>\n",
       "      <td>893</td>\n",
       "      <td>3</td>\n",
       "      <td>1</td>\n",
       "      <td>47.0</td>\n",
       "      <td>7.0000</td>\n",
       "      <td>2</td>\n",
       "    </tr>\n",
       "    <tr>\n",
       "      <th>2</th>\n",
       "      <td>894</td>\n",
       "      <td>2</td>\n",
       "      <td>0</td>\n",
       "      <td>62.0</td>\n",
       "      <td>9.6875</td>\n",
       "      <td>1</td>\n",
       "    </tr>\n",
       "    <tr>\n",
       "      <th>3</th>\n",
       "      <td>895</td>\n",
       "      <td>3</td>\n",
       "      <td>0</td>\n",
       "      <td>27.0</td>\n",
       "      <td>8.6625</td>\n",
       "      <td>2</td>\n",
       "    </tr>\n",
       "    <tr>\n",
       "      <th>4</th>\n",
       "      <td>896</td>\n",
       "      <td>3</td>\n",
       "      <td>1</td>\n",
       "      <td>22.0</td>\n",
       "      <td>12.2875</td>\n",
       "      <td>2</td>\n",
       "    </tr>\n",
       "    <tr>\n",
       "      <th>...</th>\n",
       "      <td>...</td>\n",
       "      <td>...</td>\n",
       "      <td>...</td>\n",
       "      <td>...</td>\n",
       "      <td>...</td>\n",
       "      <td>...</td>\n",
       "    </tr>\n",
       "    <tr>\n",
       "      <th>413</th>\n",
       "      <td>1305</td>\n",
       "      <td>3</td>\n",
       "      <td>0</td>\n",
       "      <td>28.0</td>\n",
       "      <td>8.0500</td>\n",
       "      <td>2</td>\n",
       "    </tr>\n",
       "    <tr>\n",
       "      <th>414</th>\n",
       "      <td>1306</td>\n",
       "      <td>1</td>\n",
       "      <td>1</td>\n",
       "      <td>39.0</td>\n",
       "      <td>108.9000</td>\n",
       "      <td>0</td>\n",
       "    </tr>\n",
       "    <tr>\n",
       "      <th>415</th>\n",
       "      <td>1307</td>\n",
       "      <td>3</td>\n",
       "      <td>0</td>\n",
       "      <td>38.5</td>\n",
       "      <td>7.2500</td>\n",
       "      <td>2</td>\n",
       "    </tr>\n",
       "    <tr>\n",
       "      <th>416</th>\n",
       "      <td>1308</td>\n",
       "      <td>3</td>\n",
       "      <td>0</td>\n",
       "      <td>28.0</td>\n",
       "      <td>8.0500</td>\n",
       "      <td>2</td>\n",
       "    </tr>\n",
       "    <tr>\n",
       "      <th>417</th>\n",
       "      <td>1309</td>\n",
       "      <td>3</td>\n",
       "      <td>0</td>\n",
       "      <td>28.0</td>\n",
       "      <td>22.3583</td>\n",
       "      <td>0</td>\n",
       "    </tr>\n",
       "  </tbody>\n",
       "</table>\n",
       "<p>418 rows × 6 columns</p>\n",
       "</div>"
      ],
      "text/plain": [
       "     PassengerId  Pclass  Sex   Age      Fare  Embarked\n",
       "0            892       3    0  34.5    7.8292         1\n",
       "1            893       3    1  47.0    7.0000         2\n",
       "2            894       2    0  62.0    9.6875         1\n",
       "3            895       3    0  27.0    8.6625         2\n",
       "4            896       3    1  22.0   12.2875         2\n",
       "..           ...     ...  ...   ...       ...       ...\n",
       "413         1305       3    0  28.0    8.0500         2\n",
       "414         1306       1    1  39.0  108.9000         0\n",
       "415         1307       3    0  38.5    7.2500         2\n",
       "416         1308       3    0  28.0    8.0500         2\n",
       "417         1309       3    0  28.0   22.3583         0\n",
       "\n",
       "[418 rows x 6 columns]"
      ]
     },
     "execution_count": 33,
     "metadata": {},
     "output_type": "execute_result"
    }
   ],
   "source": [
    "test_set"
   ]
  },
  {
   "cell_type": "code",
   "execution_count": 34,
   "metadata": {
    "execution": {
     "iopub.execute_input": "2020-08-27T13:58:23.150200Z",
     "iopub.status.busy": "2020-08-27T13:58:23.149291Z",
     "iopub.status.idle": "2020-08-27T13:58:23.153917Z",
     "shell.execute_reply": "2020-08-27T13:58:23.153180Z"
    },
    "papermill": {
     "duration": 0.031323,
     "end_time": "2020-08-27T13:58:23.154055",
     "exception": false,
     "start_time": "2020-08-27T13:58:23.122732",
     "status": "completed"
    },
    "tags": []
   },
   "outputs": [
    {
     "data": {
      "text/plain": [
       "35.6271884892086"
      ]
     },
     "execution_count": 34,
     "metadata": {},
     "output_type": "execute_result"
    }
   ],
   "source": [
    "test_set['Fare'].mean()"
   ]
  },
  {
   "cell_type": "code",
   "execution_count": 35,
   "metadata": {
    "execution": {
     "iopub.execute_input": "2020-08-27T13:58:23.256028Z",
     "iopub.status.busy": "2020-08-27T13:58:23.254932Z",
     "iopub.status.idle": "2020-08-27T13:58:23.258325Z",
     "shell.execute_reply": "2020-08-27T13:58:23.257621Z"
    },
    "papermill": {
     "duration": 0.031625,
     "end_time": "2020-08-27T13:58:23.258461",
     "exception": false,
     "start_time": "2020-08-27T13:58:23.226836",
     "status": "completed"
    },
    "tags": []
   },
   "outputs": [],
   "source": [
    "test_set['Fare'] = test_set['Fare'].replace(to_replace = np.nan,value = 35.6200)"
   ]
  },
  {
   "cell_type": "code",
   "execution_count": 36,
   "metadata": {
    "execution": {
     "iopub.execute_input": "2020-08-27T13:58:23.309569Z",
     "iopub.status.busy": "2020-08-27T13:58:23.308685Z",
     "iopub.status.idle": "2020-08-27T13:58:23.314196Z",
     "shell.execute_reply": "2020-08-27T13:58:23.313422Z"
    },
    "papermill": {
     "duration": 0.035387,
     "end_time": "2020-08-27T13:58:23.314326",
     "exception": false,
     "start_time": "2020-08-27T13:58:23.278939",
     "status": "completed"
    },
    "tags": []
   },
   "outputs": [
    {
     "data": {
      "text/plain": [
       "PassengerId    0\n",
       "Pclass         0\n",
       "Sex            0\n",
       "Age            0\n",
       "Fare           0\n",
       "Embarked       0\n",
       "dtype: int64"
      ]
     },
     "execution_count": 36,
     "metadata": {},
     "output_type": "execute_result"
    }
   ],
   "source": [
    "test_set.isnull().sum()"
   ]
  },
  {
   "cell_type": "code",
   "execution_count": 37,
   "metadata": {
    "execution": {
     "iopub.execute_input": "2020-08-27T13:58:23.362855Z",
     "iopub.status.busy": "2020-08-27T13:58:23.361059Z",
     "iopub.status.idle": "2020-08-27T13:58:23.368094Z",
     "shell.execute_reply": "2020-08-27T13:58:23.367342Z"
    },
    "papermill": {
     "duration": 0.033415,
     "end_time": "2020-08-27T13:58:23.368249",
     "exception": false,
     "start_time": "2020-08-27T13:58:23.334834",
     "status": "completed"
    },
    "tags": []
   },
   "outputs": [
    {
     "data": {
      "text/plain": [
       "array([[8.92000e+02, 3.00000e+00, 0.00000e+00, 3.45000e+01, 7.82920e+00,\n",
       "        1.00000e+00],\n",
       "       [8.93000e+02, 3.00000e+00, 1.00000e+00, 4.70000e+01, 7.00000e+00,\n",
       "        2.00000e+00],\n",
       "       [8.94000e+02, 2.00000e+00, 0.00000e+00, 6.20000e+01, 9.68750e+00,\n",
       "        1.00000e+00],\n",
       "       ...,\n",
       "       [1.30700e+03, 3.00000e+00, 0.00000e+00, 3.85000e+01, 7.25000e+00,\n",
       "        2.00000e+00],\n",
       "       [1.30800e+03, 3.00000e+00, 0.00000e+00, 2.80000e+01, 8.05000e+00,\n",
       "        2.00000e+00],\n",
       "       [1.30900e+03, 3.00000e+00, 0.00000e+00, 2.80000e+01, 2.23583e+01,\n",
       "        0.00000e+00]])"
      ]
     },
     "execution_count": 37,
     "metadata": {},
     "output_type": "execute_result"
    }
   ],
   "source": [
    "x_test = test_set.iloc[:,:].values \n",
    "x_test"
   ]
  },
  {
   "cell_type": "code",
   "execution_count": 38,
   "metadata": {
    "execution": {
     "iopub.execute_input": "2020-08-27T13:58:23.416284Z",
     "iopub.status.busy": "2020-08-27T13:58:23.415530Z",
     "iopub.status.idle": "2020-08-27T13:58:23.419439Z",
     "shell.execute_reply": "2020-08-27T13:58:23.418727Z"
    },
    "papermill": {
     "duration": 0.030228,
     "end_time": "2020-08-27T13:58:23.419599",
     "exception": false,
     "start_time": "2020-08-27T13:58:23.389371",
     "status": "completed"
    },
    "tags": []
   },
   "outputs": [],
   "source": [
    "y_pred = reg_model.predict(x_test)"
   ]
  },
  {
   "cell_type": "code",
   "execution_count": 39,
   "metadata": {
    "execution": {
     "iopub.execute_input": "2020-08-27T13:58:23.469211Z",
     "iopub.status.busy": "2020-08-27T13:58:23.468263Z",
     "iopub.status.idle": "2020-08-27T13:58:23.473900Z",
     "shell.execute_reply": "2020-08-27T13:58:23.473157Z"
    },
    "papermill": {
     "duration": 0.033425,
     "end_time": "2020-08-27T13:58:23.474036",
     "exception": false,
     "start_time": "2020-08-27T13:58:23.440611",
     "status": "completed"
    },
    "tags": []
   },
   "outputs": [
    {
     "data": {
      "text/plain": [
       "array([0, 0, 0, 0, 1, 0, 1, 0, 1, 0, 0, 0, 1, 0, 1, 1, 0, 0, 1, 1, 0, 0,\n",
       "       1, 1, 1, 0, 1, 0, 0, 0, 0, 0, 1, 1, 1, 0, 1, 1, 0, 0, 0, 0, 0, 1,\n",
       "       1, 0, 0, 0, 1, 0, 1, 0, 1, 1, 0, 0, 0, 0, 0, 1, 0, 0, 0, 1, 1, 1,\n",
       "       1, 0, 1, 1, 1, 0, 1, 1, 1, 1, 0, 1, 0, 1, 0, 0, 0, 0, 0, 0, 1, 1,\n",
       "       1, 0, 1, 0, 1, 0, 1, 0, 1, 0, 1, 0, 1, 0, 0, 0, 1, 0, 0, 0, 0, 0,\n",
       "       0, 1, 1, 1, 1, 0, 0, 1, 1, 1, 1, 0, 1, 0, 0, 1, 0, 1, 0, 0, 0, 0,\n",
       "       1, 0, 0, 0, 0, 0, 1, 0, 1, 1, 0, 0, 0, 0, 0, 0, 0, 0, 1, 0, 0, 0,\n",
       "       0, 0, 1, 1, 0, 1, 1, 0, 1, 0, 0, 1, 0, 0, 1, 1, 0, 0, 0, 0, 0, 1,\n",
       "       1, 0, 1, 1, 0, 1, 1, 0, 1, 0, 1, 0, 1, 0, 0, 0, 0, 0, 0, 0, 1, 1,\n",
       "       0, 1, 1, 0, 0, 1, 0, 1, 1, 0, 1, 0, 0, 0, 0, 1, 0, 0, 1, 0, 1, 0,\n",
       "       1, 0, 1, 0, 1, 1, 0, 1, 0, 0, 0, 1, 0, 0, 1, 0, 0, 0, 1, 1, 1, 1,\n",
       "       0, 0, 0, 0, 1, 0, 1, 1, 1, 0, 1, 0, 0, 0, 0, 0, 1, 0, 0, 0, 1, 1,\n",
       "       0, 0, 0, 0, 1, 0, 0, 0, 1, 1, 0, 1, 0, 0, 0, 0, 1, 0, 1, 1, 1, 0,\n",
       "       0, 1, 0, 0, 0, 1, 0, 0, 0, 0, 1, 0, 0, 0, 0, 0, 0, 0, 1, 1, 0, 0,\n",
       "       0, 0, 0, 0, 0, 1, 1, 1, 0, 0, 0, 0, 0, 0, 0, 0, 1, 0, 1, 0, 0, 0,\n",
       "       1, 1, 0, 1, 0, 0, 0, 0, 0, 0, 0, 0, 0, 1, 0, 1, 0, 1, 0, 1, 1, 0,\n",
       "       0, 0, 1, 0, 1, 0, 0, 1, 0, 1, 1, 0, 1, 1, 0, 1, 1, 0, 0, 1, 0, 0,\n",
       "       1, 1, 1, 0, 0, 0, 0, 0, 1, 1, 0, 1, 0, 0, 0, 0, 1, 1, 0, 0, 0, 1,\n",
       "       0, 1, 0, 0, 1, 0, 1, 1, 0, 0, 0, 0, 1, 1, 1, 1, 1, 0, 1, 0, 0, 0])"
      ]
     },
     "execution_count": 39,
     "metadata": {},
     "output_type": "execute_result"
    }
   ],
   "source": [
    "y_pred"
   ]
  },
  {
   "cell_type": "code",
   "execution_count": 40,
   "metadata": {
    "execution": {
     "iopub.execute_input": "2020-08-27T13:58:23.524961Z",
     "iopub.status.busy": "2020-08-27T13:58:23.524159Z",
     "iopub.status.idle": "2020-08-27T13:58:23.527934Z",
     "shell.execute_reply": "2020-08-27T13:58:23.527170Z"
    },
    "papermill": {
     "duration": 0.031663,
     "end_time": "2020-08-27T13:58:23.528067",
     "exception": false,
     "start_time": "2020-08-27T13:58:23.496404",
     "status": "completed"
    },
    "tags": []
   },
   "outputs": [],
   "source": [
    "submit = pd.DataFrame(test_set['PassengerId'])"
   ]
  },
  {
   "cell_type": "markdown",
   "execution_count": null,
   "metadata": {
    "papermill": {
     "duration": 0.020937,
     "end_time": "2020-08-27T13:58:23.570487",
     "exception": false,
     "start_time": "2020-08-27T13:58:23.549550",
     "status": "completed"
    },
    "tags": []
   },
   "source": [
    "## submission formatting"
   ]
  },
  {
   "cell_type": "code",
   "execution_count": 41,
   "metadata": {
    "execution": {
     "iopub.execute_input": "2020-08-27T13:58:23.627835Z",
     "iopub.status.busy": "2020-08-27T13:58:23.626940Z",
     "iopub.status.idle": "2020-08-27T13:58:23.631858Z",
     "shell.execute_reply": "2020-08-27T13:58:23.632403Z"
    },
    "papermill": {
     "duration": 0.040736,
     "end_time": "2020-08-27T13:58:23.632588",
     "exception": false,
     "start_time": "2020-08-27T13:58:23.591852",
     "status": "completed"
    },
    "tags": []
   },
   "outputs": [
    {
     "data": {
      "text/html": [
       "<div>\n",
       "<style scoped>\n",
       "    .dataframe tbody tr th:only-of-type {\n",
       "        vertical-align: middle;\n",
       "    }\n",
       "\n",
       "    .dataframe tbody tr th {\n",
       "        vertical-align: top;\n",
       "    }\n",
       "\n",
       "    .dataframe thead th {\n",
       "        text-align: right;\n",
       "    }\n",
       "</style>\n",
       "<table border=\"1\" class=\"dataframe\">\n",
       "  <thead>\n",
       "    <tr style=\"text-align: right;\">\n",
       "      <th></th>\n",
       "      <th>PassengerId</th>\n",
       "      <th>Survived</th>\n",
       "    </tr>\n",
       "  </thead>\n",
       "  <tbody>\n",
       "    <tr>\n",
       "      <th>0</th>\n",
       "      <td>892</td>\n",
       "      <td>0</td>\n",
       "    </tr>\n",
       "    <tr>\n",
       "      <th>1</th>\n",
       "      <td>893</td>\n",
       "      <td>0</td>\n",
       "    </tr>\n",
       "    <tr>\n",
       "      <th>2</th>\n",
       "      <td>894</td>\n",
       "      <td>0</td>\n",
       "    </tr>\n",
       "    <tr>\n",
       "      <th>3</th>\n",
       "      <td>895</td>\n",
       "      <td>0</td>\n",
       "    </tr>\n",
       "    <tr>\n",
       "      <th>4</th>\n",
       "      <td>896</td>\n",
       "      <td>1</td>\n",
       "    </tr>\n",
       "    <tr>\n",
       "      <th>...</th>\n",
       "      <td>...</td>\n",
       "      <td>...</td>\n",
       "    </tr>\n",
       "    <tr>\n",
       "      <th>413</th>\n",
       "      <td>1305</td>\n",
       "      <td>0</td>\n",
       "    </tr>\n",
       "    <tr>\n",
       "      <th>414</th>\n",
       "      <td>1306</td>\n",
       "      <td>1</td>\n",
       "    </tr>\n",
       "    <tr>\n",
       "      <th>415</th>\n",
       "      <td>1307</td>\n",
       "      <td>0</td>\n",
       "    </tr>\n",
       "    <tr>\n",
       "      <th>416</th>\n",
       "      <td>1308</td>\n",
       "      <td>0</td>\n",
       "    </tr>\n",
       "    <tr>\n",
       "      <th>417</th>\n",
       "      <td>1309</td>\n",
       "      <td>0</td>\n",
       "    </tr>\n",
       "  </tbody>\n",
       "</table>\n",
       "<p>418 rows × 2 columns</p>\n",
       "</div>"
      ],
      "text/plain": [
       "     PassengerId  Survived\n",
       "0            892         0\n",
       "1            893         0\n",
       "2            894         0\n",
       "3            895         0\n",
       "4            896         1\n",
       "..           ...       ...\n",
       "413         1305         0\n",
       "414         1306         1\n",
       "415         1307         0\n",
       "416         1308         0\n",
       "417         1309         0\n",
       "\n",
       "[418 rows x 2 columns]"
      ]
     },
     "execution_count": 41,
     "metadata": {},
     "output_type": "execute_result"
    }
   ],
   "source": [
    "submit['Survived'] = y_pred\n",
    "submit"
   ]
  }
 ],
 "metadata": {
  "kernelspec": {
   "display_name": "Python 3",
   "language": "python",
   "name": "python3"
  },
  "language_info": {
   "codemirror_mode": {
    "name": "ipython",
    "version": 3
   },
   "file_extension": ".py",
   "mimetype": "text/x-python",
   "name": "python",
   "nbconvert_exporter": "python",
   "pygments_lexer": "ipython3",
   "version": "3.7.6"
  },
  "papermill": {
   "duration": 14.60312,
   "end_time": "2020-08-27T13:58:23.763406",
   "environment_variables": {},
   "exception": null,
   "input_path": "__notebook__.ipynb",
   "output_path": "__notebook__.ipynb",
   "parameters": {},
   "start_time": "2020-08-27T13:58:09.160286",
   "version": "2.1.0"
  }
 },
 "nbformat": 4,
 "nbformat_minor": 4
}
